{
 "cells": [
  {
   "cell_type": "code",
   "execution_count": null,
   "id": "4e6e4d89-dc13-486c-9a4a-16f7a74fab44",
   "metadata": {
    "tags": []
   },
   "outputs": [],
   "source": [
    "# %load_ext autoreload\n",
    "# %autoreload 2"
   ]
  },
  {
   "cell_type": "code",
   "execution_count": 1,
   "id": "30af1c10-6fce-4276-b86f-6fe57cf80ce0",
   "metadata": {
    "tags": []
   },
   "outputs": [],
   "source": [
    "# usual imports\n",
    "import os\n",
    "import sys\n",
    "import numpy as np\n",
    "from rail.core.utils import RAILDIR\n",
    "#from rail.estimation.algos.sompz_version.utils import RAIL_SOMPZ_DIR\n",
    "#from rail.pipelines.estimation.inform_all import InformPipeline\n",
    "from rail.core import common_params\n",
    "import matplotlib.pyplot as plt"
   ]
  },
  {
   "cell_type": "code",
   "execution_count": 2,
   "id": "7296324b-29a4-4227-9532-b290e4a94cfc",
   "metadata": {
    "tags": []
   },
   "outputs": [],
   "source": [
    "# use local repo with local edits\n",
    "# rail_sompz_repo_develop_list = [\"/Users/jmyles/repositories/rail_sompz\",\n",
    "#                                 \"/Users/jmyles/repositories/rail_sompz/lib\",\n",
    "#                                 \"/Users/jmyles/repositories/rail_sompz/lib/python3.10\",\n",
    "#                                 \"/Users/jmyles/repositories/rail_sompz/lib/python3.10/site-packages\"]\n",
    "# for rail_sompz_repo_develop in rail_sompz_repo_develop_list:\n",
    "#     sys.path.insert(0, rail_sompz_repo_develop)\n",
    "from rail.estimation.algos.sompz import SOMPZInformer\n",
    "from rail.estimation.algos.sompz import SOMPZEstimator"
   ]
  },
  {
   "cell_type": "code",
   "execution_count": 3,
   "id": "8231a13e-260f-4271-93ec-a893fb876268",
   "metadata": {
    "tags": []
   },
   "outputs": [],
   "source": [
    "from rail.core.data import TableHandle\n",
    "from rail.core.stage import RailStage"
   ]
  },
  {
   "cell_type": "code",
   "execution_count": 4,
   "id": "8cf95e06-d6a6-4ac9-9260-c5271ed6f40c",
   "metadata": {
    "tags": []
   },
   "outputs": [],
   "source": [
    "DS = RailStage.data_store\n",
    "DS.__class__.allow_overwrite = True"
   ]
  },
  {
   "cell_type": "code",
   "execution_count": 5,
   "id": "1446ecf8-2fe8-4216-8cab-8ef779e3e188",
   "metadata": {
    "tags": []
   },
   "outputs": [],
   "source": [
    "from rail.core.utils import find_rail_file\n",
    "#trainFile = find_rail_file('examples_data/testdata/test_dc2_training_9816.hdf5')\n",
    "testFile = find_rail_file('examples_data/testdata/test_dc2_validation_9816.hdf5')\n",
    "#deep_data = DS.read_file(\"training_data\", TableHandle, trainFile)\n",
    "#wide_data = DS.read_file(\"input_wide_data\", TableHandle, testFile)"
   ]
  },
  {
   "cell_type": "code",
   "execution_count": 6,
   "id": "7582c84a-eb2c-43df-bfcd-a92992d745b9",
   "metadata": {
    "tags": []
   },
   "outputs": [],
   "source": [
    "#datadir = '/global/cfs/projectdirs/desc-pz/users/jmyles/sompz_desc/' \n",
    "#hsc_file = os.path.join(datadir, \"hsc_deep_incl_nir_incl_specz_TEST_ONLY_NO_SCIENCE_2023-10-18_common_deep_col_prefix_dropout_placeholder.fits\")\n",
    "#hsc_file = \"hsc_deep_incl_nir_incl_specz_TEST_ONLY_NO_SCIENCE_2023-10-18.fits\"\n",
    "hsc_file = \"hsc_deep_incl_nir_incl_specz_TEST_ONLY_NO_SCIENCE_2023-10-18_common_deep_col_prefix_dropout_placeholder.fits\"\n",
    "deep_data = DS.read_file(\"training_data\", TableHandle, hsc_file)\n",
    "wide_data = DS.read_file(\"training_data\", TableHandle, hsc_file)"
   ]
  },
  {
   "cell_type": "code",
   "execution_count": 7,
   "id": "7d8e9dbf-e1e3-4b6e-ada4-925930833bc2",
   "metadata": {
    "tags": []
   },
   "outputs": [],
   "source": [
    "subset = deep_data()[::10]"
   ]
  },
  {
   "cell_type": "code",
   "execution_count": null,
   "id": "b373d0e3-ad0d-4c1b-ab76-d1e9d876f715",
   "metadata": {
    "tags": []
   },
   "outputs": [],
   "source": [
    "#subset[['i_cmodel_flux', 'i_cmodel_fluxerr']]"
   ]
  },
  {
   "cell_type": "code",
   "execution_count": null,
   "id": "d0851bb8-97f4-48b7-9b6b-7621edfcdf64",
   "metadata": {
    "tags": []
   },
   "outputs": [],
   "source": [
    "#subset['i_cmodel_flux'].value.asarray()"
   ]
  },
  {
   "cell_type": "code",
   "execution_count": 8,
   "id": "849a7977-5c7f-43ca-aa0a-3d25fd6852e9",
   "metadata": {
    "tags": []
   },
   "outputs": [],
   "source": [
    "smaller_data = DS.add_data(\"smaller_data\", subset, TableHandle)"
   ]
  },
  {
   "cell_type": "code",
   "execution_count": 9,
   "id": "b6fce31d-31b9-46d5-adff-e7c1056ec822",
   "metadata": {
    "tags": []
   },
   "outputs": [],
   "source": [
    "bands = ['u','g','r','i','z','y','J','H', 'K']\n",
    "\n",
    "deepbands = []\n",
    "deeperrs = []\n",
    "zeropts = []\n",
    "for band in bands:\n",
    "    deepbands.append(f'flux_DEEP_{band}')\n",
    "    deeperrs.append(f'flux_err_DEEP_{band}')\n",
    "    zeropts.append(30.)\n",
    "\n",
    "widebands = []\n",
    "wideerrs = []  \n",
    "for band in bands[1:5]:\n",
    "    widebands.append(f'{band}_cmodel_flux')\n",
    "    wideerrs.append(f'{band}_cmodel_fluxerr')\n",
    "    \n",
    "refband_deep=deepbands[3]\n",
    "refband_wide=widebands[2]"
   ]
  },
  {
   "cell_type": "code",
   "execution_count": 10,
   "id": "909db34c-8219-4cb2-9dd0-468a67df2a12",
   "metadata": {
    "tags": []
   },
   "outputs": [],
   "source": [
    "som_params = dict(inputs_deep=deepbands, input_errs_deep=deeperrs, \n",
    "                  zero_points_deep=zeropts, \n",
    "                  convert_to_flux_deep=False, convert_to_flux_wide=False, \n",
    "                  set_threshold_deep=True, thresh_val_deep=1.e-5, \n",
    "                  som_shape_wide=(25, 25), som_minerror_wide=0.005,\n",
    "                  som_take_log_wide=False, som_wrap_wide=False)"
   ]
  },
  {
   "cell_type": "code",
   "execution_count": 17,
   "id": "6a4bd7b9-b23e-4f30-bc6c-d553c63e5bac",
   "metadata": {
    "tags": []
   },
   "outputs": [
    {
     "name": "stdout",
     "output_type": "stream",
     "text": [
      "initialized model {'deep_som': <rail.estimation.algos.som.NoiseSOM object at 0x154793640>, 'wide_som': <rail.estimation.algos.som.NoiseSOM object at 0x154fad240>, 'deep_columns': ['flux_DEEP_u', 'flux_DEEP_g', 'flux_DEEP_r', 'flux_DEEP_i', 'flux_DEEP_z', 'flux_DEEP_y', 'flux_DEEP_J', 'flux_DEEP_H', 'flux_DEEP_K'], 'deep_err_columns': ['flux_err_DEEP_u', 'flux_err_DEEP_g', 'flux_err_DEEP_r', 'flux_err_DEEP_i', 'flux_err_DEEP_z', 'flux_err_DEEP_y', 'flux_err_DEEP_J', 'flux_err_DEEP_H', 'flux_err_DEEP_K'], 'wide_columns': ['g_cmodel_flux', 'r_cmodel_flux', 'i_cmodel_flux', 'z_cmodel_flux'], 'wide_err_columns': ['g_cmodel_fluxerr', 'r_cmodel_fluxerr', 'i_cmodel_fluxerr', 'z_cmodel_fluxerr']}\n"
     ]
    }
   ],
   "source": [
    "som_estimate = SOMPZEstimator.make_stage(name=\"som_estimator\", \n",
    "                                         data_path=testFile,\n",
    "                                         deep_bands=deepbands,\n",
    "                                         err_deep_bands=deeperrs,  \n",
    "                                         ref_band_deep=refband_deep,\n",
    "                                         wide_bands=widebands,\n",
    "                                         err_wide_bands=wideerrs,    \n",
    "                                         ref_band_wide=refband_wide,\n",
    "                                         deep_groupname='', \n",
    "                                         hdf5_groupname='',\n",
    "                                         model=\"TEST_HSC_model_2023-10-27.pkl\", \n",
    "                                         **som_params)"
   ]
  },
  {
   "cell_type": "code",
   "execution_count": 12,
   "id": "05be99ea-f667-49d8-923f-a57e01f3f80b",
   "metadata": {},
   "outputs": [],
   "source": [
    "nsamp = 100\n",
    "deep_fluxes_as_ndarray = np.array(subset[deepbands], copy=False).view(('>f4', len(subset[deepbands].dtype.names)))[:nsamp]\n",
    "deep_flux_errs_as_ndarray = np.array(subset[deeperrs], copy=False).view(('>f4', len(subset[deepbands].dtype.names)))[:nsamp]\n",
    "\n",
    "wide_fluxes_as_ndarray = np.array(subset[widebands], copy=False).view(('>f4', len(subset[widebands].dtype.names)))[:nsamp]\n",
    "wide_flux_errs_as_ndarray = np.array(subset[wideerrs], copy=False).view(('>f4', len(subset[widebands].dtype.names)))[:nsamp]"
   ]
  },
  {
   "cell_type": "code",
   "execution_count": 15,
   "id": "5f21520f-ed97-41d5-a32b-1ce7be1759f9",
   "metadata": {
    "tags": []
   },
   "outputs": [
    {
     "name": "stdout",
     "output_type": "stream",
     "text": [
      "hello, run\n",
      "(100, 9)\n",
      "(100, 9)\n",
      "classifying 0\n",
      "nan tmp at (array([ 0,  0,  0, ..., 40, 40, 40]), array([  0,   0,   0, ..., 511, 511, 511]), array([0, 0, 1, ..., 8, 9, 9]), array([2, 5, 1, ..., 5, 3, 5]))\n",
      "False False False True\n",
      "nan tmp at (array([ 0,  0,  0, ..., 40, 40, 40]), array([  0,   0,   0, ..., 511, 511, 511]), array([0, 0, 1, ..., 8, 9, 9]), array([2, 5, 1, ..., 5, 3, 5]))\n",
      "False False False True\n",
      "classifying 10\n",
      "nan tmp at (array([ 0,  0,  0, ..., 40, 40, 40]), array([  0,   0,   0, ..., 511, 511, 511]), array([0, 0, 1, ..., 9, 9, 9]), array([1, 4, 2, ..., 1, 2, 5]))\n",
      "False False False True\n",
      "nan tmp at (array([ 0,  0,  0, ..., 40, 40, 40]), array([  0,   0,   0, ..., 511, 511, 511]), array([0, 0, 1, ..., 9, 9, 9]), array([1, 4, 2, ..., 1, 2, 5]))\n",
      "False False False True\n",
      "classifying 20\n",
      "nan tmp at (array([ 0,  0,  0, ..., 40, 40, 40]), array([  0,   0,   0, ..., 511, 511, 511]), array([0, 0, 0, ..., 8, 8, 8]), array([1, 2, 4, ..., 1, 2, 3]))\n",
      "False False False True\n"
     ]
    },
    {
     "name": "stderr",
     "output_type": "stream",
     "text": [
      "/Users/jmyles/repositories/rail_sompz/src/rail/estimation/algos/som.py:340: RuntimeWarning: overflow encountered in divide\n",
      "  vf = features / errors\n",
      "/Users/jmyles/repositories/rail_sompz/src/rail/estimation/algos/som.py:360: RuntimeWarning: overflow encountered in exp\n",
      "  w = np.minimum(np.exp(2 * (vf - 4)), 1000.)\n",
      "/Users/jmyles/repositories/rail_sompz/src/rail/estimation/algos/som.py:372: RuntimeWarning: invalid value encountered in log\n",
      "  tmp = w * np.log(2 * vnS) + dn\n"
     ]
    },
    {
     "name": "stdout",
     "output_type": "stream",
     "text": [
      "nan tmp at (array([ 0,  0,  0, ..., 40, 40, 40]), array([  0,   0,   0, ..., 511, 511, 511]), array([0, 0, 0, ..., 8, 8, 8]), array([1, 2, 4, ..., 1, 2, 3]))\n",
      "False False False True\n",
      "classifying 30\n",
      "nan tmp at (array([ 0,  0,  0, ..., 40, 40, 40]), array([  0,   0,   0, ..., 511, 511, 511]), array([0, 0, 0, ..., 9, 9, 9]), array([1, 2, 4, ..., 2, 4, 5]))\n",
      "False False False True\n",
      "nan tmp at (array([ 0,  0,  0, ..., 40, 40, 40]), array([  0,   0,   0, ..., 511, 511, 511]), array([0, 0, 0, ..., 9, 9, 9]), array([1, 2, 4, ..., 2, 4, 5]))\n",
      "False False False True\n",
      "classifying 40\n",
      "nan tmp at (array([ 0,  0,  0, ..., 40, 40, 40]), array([  0,   0,   0, ..., 511, 511, 511]), array([0, 0, 1, ..., 8, 8, 9]), array([3, 4, 1, ..., 3, 4, 2]))\n",
      "False False False True\n",
      "nan tmp at (array([ 0,  0,  0, ..., 40, 40, 40]), array([  0,   0,   0, ..., 511, 511, 511]), array([0, 0, 1, ..., 8, 8, 9]), array([3, 4, 1, ..., 3, 4, 2]))\n",
      "False False False True\n",
      "classifying 50\n",
      "nan tmp at (array([ 0,  0,  0, ..., 40, 40, 40]), array([  0,   0,   0, ..., 511, 511, 511]), array([0, 0, 0, ..., 9, 9, 9]), array([1, 2, 3, ..., 2, 4, 5]))\n",
      "False False False True\n",
      "nan tmp at (array([ 0,  0,  0, ..., 40, 40, 40]), array([  0,   0,   0, ..., 511, 511, 511]), array([0, 0, 0, ..., 9, 9, 9]), array([1, 2, 3, ..., 2, 4, 5]))\n",
      "False False False True\n",
      "classifying 60\n",
      "nan tmp at (array([ 0,  0,  0, ..., 40, 40, 40]), array([  0,   0,   0, ..., 511, 511, 511]), array([0, 0, 1, ..., 8, 8, 8]), array([1, 5, 0, ..., 1, 2, 4]))\n",
      "False False False True\n",
      "nan tmp at (array([ 0,  0,  0, ..., 40, 40, 40]), array([  0,   0,   0, ..., 511, 511, 511]), array([0, 0, 1, ..., 8, 8, 8]), array([1, 5, 0, ..., 1, 2, 4]))\n",
      "False False False True\n",
      "classifying 70\n",
      "nan in w at (array([2]), array([1]))\n",
      "nan tmp at (array([ 0,  0,  0, ..., 40, 40, 40]), array([  0,   0,   0, ..., 511, 511, 511]), array([0, 0, 1, ..., 8, 9, 9]), array([1, 5, 1, ..., 2, 1, 4]))\n",
      "True False False True\n",
      "nan tmp at (array([ 0,  0,  0, ..., 40, 40, 40]), array([  0,   0,   0, ..., 511, 511, 511]), array([0, 0, 1, ..., 8, 9, 9]), array([1, 5, 1, ..., 2, 1, 4]))\n",
      "True False False True\n",
      "classifying 80\n",
      "nan tmp at (array([ 0,  0,  0, ..., 40, 40, 40]), array([  0,   0,   0, ..., 511, 511, 511]), array([0, 1, 1, ..., 8, 9, 9]), array([3, 0, 6, ..., 5, 1, 2]))\n",
      "False False False True\n",
      "nan tmp at (array([ 0,  0,  0, ..., 40, 40, 40]), array([  0,   0,   0, ..., 511, 511, 511]), array([0, 1, 1, ..., 8, 9, 9]), array([3, 0, 6, ..., 5, 1, 2]))\n",
      "False False False True\n",
      "classifying 90\n",
      "nan in w at (array([5, 6]), array([1, 5]))\n",
      "nan tmp at (array([ 0,  0,  0, ..., 40, 40, 40]), array([  0,   0,   0, ..., 511, 511, 511]), array([0, 1, 1, ..., 9, 9, 9]), array([3, 4, 5, ..., 1, 2, 3]))\n",
      "True True True True\n",
      "nan tmp at (array([ 0,  0,  0, ..., 40, 40, 40]), array([  0,   0,   0, ..., 511, 511, 511]), array([0, 1, 1, ..., 9, 9, 9]), array([3, 4, 5, ..., 1, 2, 3]))\n",
      "True True True True\n"
     ]
    },
    {
     "name": "stderr",
     "output_type": "stream",
     "text": [
      "/Users/jmyles/repositories/rail_sompz/src/rail/estimation/algos/som.py:360: RuntimeWarning: overflow encountered in multiply\n",
      "  w = np.minimum(np.exp(2 * (vf - 4)), 1000.)\n"
     ]
    },
    {
     "ename": "ValueError",
     "evalue": "('Wrong shape for initialize ndarray', (625, 4))",
     "output_type": "error",
     "traceback": [
      "\u001b[0;31m---------------------------------------------------------------------------\u001b[0m",
      "\u001b[0;31mValueError\u001b[0m                                Traceback (most recent call last)",
      "Cell \u001b[0;32mIn[15], line 1\u001b[0m\n\u001b[0;32m----> 1\u001b[0m \u001b[43msom_estimate\u001b[49m\u001b[38;5;241;43m.\u001b[39;49m\u001b[43mestimate\u001b[49m\u001b[43m(\u001b[49m\u001b[43mdeep_fluxes_as_ndarray\u001b[49m\u001b[43m,\u001b[49m\n\u001b[1;32m      2\u001b[0m \u001b[43m                      \u001b[49m\u001b[43mdeep_flux_errs_as_ndarray\u001b[49m\u001b[43m,\u001b[49m\n\u001b[1;32m      3\u001b[0m \u001b[43m                      \u001b[49m\u001b[43mwide_fluxes_as_ndarray\u001b[49m\u001b[43m,\u001b[49m\n\u001b[1;32m      4\u001b[0m \u001b[43m                      \u001b[49m\u001b[43mwide_flux_errs_as_ndarray\u001b[49m\u001b[43m,\u001b[49m\u001b[43m)\u001b[49m\n",
      "File \u001b[0;32m~/repositories/rail_sompz/src/rail/estimation/algos/sompz.py:297\u001b[0m, in \u001b[0;36mSOMPZEstimator.estimate\u001b[0;34m(self, input_deep_data, input_deep_err, input_wide_data, input_wide_err)\u001b[0m\n\u001b[1;32m    288\u001b[0m \u001b[38;5;28;01mdef\u001b[39;00m \u001b[38;5;21mestimate\u001b[39m(\u001b[38;5;28mself\u001b[39m,\n\u001b[1;32m    289\u001b[0m              input_deep_data,\n\u001b[1;32m    290\u001b[0m              input_deep_err,\n\u001b[0;32m   (...)\u001b[0m\n\u001b[1;32m    294\u001b[0m     \u001b[38;5;66;03m#input_deep_data = self.model.get_data('input_deep_data')\u001b[39;00m\n\u001b[1;32m    295\u001b[0m     \u001b[38;5;66;03m#input_wide_data = self.model.get_data('input_wide_data')\u001b[39;00m\n\u001b[0;32m--> 297\u001b[0m     \u001b[38;5;28;43mself\u001b[39;49m\u001b[38;5;241;43m.\u001b[39;49m\u001b[43mrun\u001b[49m\u001b[43m(\u001b[49m\u001b[43minput_deep_data\u001b[49m\u001b[43m,\u001b[49m\n\u001b[1;32m    298\u001b[0m \u001b[43m             \u001b[49m\u001b[43minput_deep_err\u001b[49m\u001b[43m,\u001b[49m\n\u001b[1;32m    299\u001b[0m \u001b[43m             \u001b[49m\u001b[43minput_wide_data\u001b[49m\u001b[43m,\u001b[49m\n\u001b[1;32m    300\u001b[0m \u001b[43m             \u001b[49m\u001b[43minput_wide_err\u001b[49m\u001b[43m,\u001b[49m\u001b[43m)\u001b[49m\n\u001b[1;32m    301\u001b[0m     \u001b[38;5;28mself\u001b[39m\u001b[38;5;241m.\u001b[39mfinalize()\n\u001b[1;32m    303\u001b[0m     \u001b[38;5;28;01mreturn\u001b[39;00m\n",
      "File \u001b[0;32m~/repositories/rail_sompz/src/rail/estimation/algos/sompz.py:276\u001b[0m, in \u001b[0;36mSOMPZEstimator.run\u001b[0;34m(self, flux_deep, flux_err_deep, flux_wide, flux_err_wide)\u001b[0m\n\u001b[1;32m    274\u001b[0m     cells_wide, dist_wide \u001b[38;5;241m=\u001b[39m \u001b[38;5;28mself\u001b[39m\u001b[38;5;241m.\u001b[39mmodel[\u001b[38;5;124m'\u001b[39m\u001b[38;5;124mcells_wide\u001b[39m\u001b[38;5;124m'\u001b[39m], \u001b[38;5;28mself\u001b[39m\u001b[38;5;241m.\u001b[39mmodel[\u001b[38;5;124m'\u001b[39m\u001b[38;5;124mdist_wide\u001b[39m\u001b[38;5;124m'\u001b[39m]\n\u001b[1;32m    275\u001b[0m \u001b[38;5;28;01melse\u001b[39;00m:\n\u001b[0;32m--> 276\u001b[0m     cells_wide, dist_wide \u001b[38;5;241m=\u001b[39m \u001b[38;5;28;43mself\u001b[39;49m\u001b[38;5;241;43m.\u001b[39;49m\u001b[43m_assign_som\u001b[49m\u001b[43m(\u001b[49m\u001b[43mflux_wide\u001b[49m\u001b[43m,\u001b[49m\u001b[43m \u001b[49m\u001b[43mflux_err_wide\u001b[49m\u001b[43m,\u001b[49m\u001b[43m \u001b[49m\u001b[38;5;124;43m'\u001b[39;49m\u001b[38;5;124;43mwide\u001b[39;49m\u001b[38;5;124;43m'\u001b[39;49m\u001b[43m)\u001b[49m\n\u001b[1;32m    278\u001b[0m model_update \u001b[38;5;241m=\u001b[39m \u001b[38;5;28mdict\u001b[39m(cells_deep\u001b[38;5;241m=\u001b[39mcells_deep, dist_deep\u001b[38;5;241m=\u001b[39mdist_deep,\n\u001b[1;32m    279\u001b[0m                     cells_wide\u001b[38;5;241m=\u001b[39mcells_wide, dist_wide\u001b[38;5;241m=\u001b[39mdist_wide)\n\u001b[1;32m    280\u001b[0m \u001b[38;5;28mself\u001b[39m\u001b[38;5;241m.\u001b[39mmodel \u001b[38;5;241m=\u001b[39m \u001b[38;5;28mself\u001b[39m\u001b[38;5;241m.\u001b[39mmodel\u001b[38;5;241m.\u001b[39mupdate(model_update)\n",
      "File \u001b[0;32m~/repositories/rail_sompz/src/rail/estimation/algos/sompz.py:217\u001b[0m, in \u001b[0;36mSOMPZEstimator._assign_som\u001b[0;34m(self, flux, flux_err, som)\u001b[0m\n\u001b[1;32m    215\u001b[0m hh \u001b[38;5;241m=\u001b[39m somfuncs\u001b[38;5;241m.\u001b[39mhFunc(nTrain, sigma\u001b[38;5;241m=\u001b[39m(\u001b[38;5;241m30\u001b[39m, \u001b[38;5;241m1\u001b[39m))\n\u001b[1;32m    216\u001b[0m metric \u001b[38;5;241m=\u001b[39m somfuncs\u001b[38;5;241m.\u001b[39mAsinhMetric(lnScaleSigma\u001b[38;5;241m=\u001b[39m\u001b[38;5;241m0.4\u001b[39m, lnScaleStep\u001b[38;5;241m=\u001b[39m\u001b[38;5;241m0.03\u001b[39m)\n\u001b[0;32m--> 217\u001b[0m som \u001b[38;5;241m=\u001b[39m \u001b[43msomfuncs\u001b[49m\u001b[38;5;241;43m.\u001b[39;49m\u001b[43mNoiseSOM\u001b[49m\u001b[43m(\u001b[49m\u001b[43mmetric\u001b[49m\u001b[43m,\u001b[49m\u001b[43m \u001b[49m\u001b[38;5;28;43;01mNone\u001b[39;49;00m\u001b[43m,\u001b[49m\u001b[43m \u001b[49m\u001b[38;5;28;43;01mNone\u001b[39;49;00m\u001b[43m,\u001b[49m\n\u001b[1;32m    218\u001b[0m \u001b[43m                  \u001b[49m\u001b[43mlearning\u001b[49m\u001b[38;5;241;43m=\u001b[39;49m\u001b[43mhh\u001b[49m\u001b[43m,\u001b[49m\n\u001b[1;32m    219\u001b[0m \u001b[43m                  \u001b[49m\u001b[43mshape\u001b[49m\u001b[38;5;241;43m=\u001b[39;49m\u001b[43m(\u001b[49m\u001b[43msom_dim\u001b[49m\u001b[43m,\u001b[49m\u001b[43m \u001b[49m\u001b[43msom_dim\u001b[49m\u001b[43m)\u001b[49m\u001b[43m,\u001b[49m\n\u001b[1;32m    220\u001b[0m \u001b[43m                  \u001b[49m\u001b[43mwrap\u001b[49m\u001b[38;5;241;43m=\u001b[39;49m\u001b[38;5;28;43;01mFalse\u001b[39;49;00m\u001b[43m,\u001b[49m\u001b[43m \u001b[49m\u001b[43mlogF\u001b[49m\u001b[38;5;241;43m=\u001b[39;49m\u001b[38;5;28;43;01mTrue\u001b[39;49;00m\u001b[43m,\u001b[49m\n\u001b[1;32m    221\u001b[0m \u001b[43m                  \u001b[49m\u001b[43minitialize\u001b[49m\u001b[38;5;241;43m=\u001b[39;49m\u001b[43msom_weights\u001b[49m\u001b[43m,\u001b[49m\n\u001b[1;32m    222\u001b[0m \u001b[43m                  \u001b[49m\u001b[43mminError\u001b[49m\u001b[38;5;241;43m=\u001b[39;49m\u001b[38;5;241;43m0.02\u001b[39;49m\u001b[43m)\u001b[49m\n\u001b[1;32m    223\u001b[0m subsamp \u001b[38;5;241m=\u001b[39m \u001b[38;5;241m1\u001b[39m\n\u001b[1;32m    225\u001b[0m \u001b[38;5;66;03m# Now we classify the objects into cells and save these cells\u001b[39;00m\n",
      "File \u001b[0;32m~/repositories/rail_sompz/src/rail/estimation/algos/som.py:66\u001b[0m, in \u001b[0;36mNoiseSOM.__init__\u001b[0;34m(self, metric, data, errors, learning, shape, minError, wrap, logF, initialize, gridOverDimensions)\u001b[0m\n\u001b[1;32m     64\u001b[0m     \u001b[38;5;28mself\u001b[39m\u001b[38;5;241m.\u001b[39mweights \u001b[38;5;241m=\u001b[39m np\u001b[38;5;241m.\u001b[39marray(initialize)\n\u001b[1;32m     65\u001b[0m \u001b[38;5;28;01melse\u001b[39;00m:\n\u001b[0;32m---> 66\u001b[0m     \u001b[38;5;28;01mraise\u001b[39;00m \u001b[38;5;167;01mValueError\u001b[39;00m(\u001b[38;5;124m'\u001b[39m\u001b[38;5;124mWrong shape for initialize ndarray\u001b[39m\u001b[38;5;124m'\u001b[39m, initialize\u001b[38;5;241m.\u001b[39mshape)\n\u001b[1;32m     67\u001b[0m \u001b[38;5;28;01mif\u001b[39;00m \u001b[38;5;28mself\u001b[39m\u001b[38;5;241m.\u001b[39mlogF \u001b[38;5;129;01mand\u001b[39;00m np\u001b[38;5;241m.\u001b[39mmin(\u001b[38;5;28mself\u001b[39m\u001b[38;5;241m.\u001b[39mweights\u001b[38;5;241m.\u001b[39mflatten()) \u001b[38;5;241m<\u001b[39m\u001b[38;5;241m=\u001b[39m \u001b[38;5;241m0\u001b[39m:\n\u001b[1;32m     68\u001b[0m     \u001b[38;5;66;03m# Cannot deal with negative weights in a log SOM:\u001b[39;00m\n\u001b[1;32m     69\u001b[0m     \u001b[38;5;28;01mraise\u001b[39;00m \u001b[38;5;167;01mValueError\u001b[39;00m(\u001b[38;5;124m'\u001b[39m\u001b[38;5;124mNon-positive feature in initialization of \u001b[39m\u001b[38;5;124m'\u001b[39m \u001b[38;5;241m+\u001b[39m\n\u001b[1;32m     70\u001b[0m                      \u001b[38;5;124m'\u001b[39m\u001b[38;5;124mlog-domain NoiseSOM\u001b[39m\u001b[38;5;124m'\u001b[39m)\n",
      "\u001b[0;31mValueError\u001b[0m: ('Wrong shape for initialize ndarray', (625, 4))"
     ]
    }
   ],
   "source": [
    "som_estimate.estimate(deep_fluxes_as_ndarray,\n",
    "                      deep_flux_errs_as_ndarray,\n",
    "                      wide_fluxes_as_ndarray,\n",
    "                      wide_flux_errs_as_ndarray,)"
   ]
  },
  {
   "cell_type": "code",
   "execution_count": null,
   "id": "58a1f23c-d0c8-4447-bf34-69882dc11838",
   "metadata": {},
   "outputs": [],
   "source": []
  }
 ],
 "metadata": {
  "kernelspec": {
   "display_name": "rail_sompz_jtmyles",
   "language": "python",
   "name": "rail_sompz_jtmyles"
  },
  "language_info": {
   "codemirror_mode": {
    "name": "ipython",
    "version": 3
   },
   "file_extension": ".py",
   "mimetype": "text/x-python",
   "name": "python",
   "nbconvert_exporter": "python",
   "pygments_lexer": "ipython3",
   "version": "3.10.13"
  }
 },
 "nbformat": 4,
 "nbformat_minor": 5
}

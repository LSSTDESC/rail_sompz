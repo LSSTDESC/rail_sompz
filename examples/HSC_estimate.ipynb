{
 "cells": [
  {
   "cell_type": "code",
   "execution_count": 1,
   "id": "4e6e4d89-dc13-486c-9a4a-16f7a74fab44",
   "metadata": {
    "tags": []
   },
   "outputs": [],
   "source": [
    "# %load_ext autoreload\n",
    "# %autoreload 2"
   ]
  },
  {
   "cell_type": "code",
   "execution_count": 2,
   "id": "30af1c10-6fce-4276-b86f-6fe57cf80ce0",
   "metadata": {
    "tags": []
   },
   "outputs": [],
   "source": [
    "# usual imports\n",
    "import os\n",
    "import sys\n",
    "import numpy as np\n",
    "from rail.core.utils import RAILDIR\n",
    "#from rail.estimation.algos.sompz_version.utils import RAIL_SOMPZ_DIR\n",
    "#from rail.pipelines.estimation.inform_all import InformPipeline\n",
    "from rail.core import common_params\n",
    "import matplotlib.pyplot as plt"
   ]
  },
  {
   "cell_type": "code",
   "execution_count": 3,
   "id": "7296324b-29a4-4227-9532-b290e4a94cfc",
   "metadata": {
    "tags": []
   },
   "outputs": [],
   "source": [
    "# use local repo with local edits\n",
    "# rail_sompz_repo_develop_list = [\"/Users/jmyles/repositories/rail_sompz\",\n",
    "#                                 \"/Users/jmyles/repositories/rail_sompz/lib\",\n",
    "#                                 \"/Users/jmyles/repositories/rail_sompz/lib/python3.10\",\n",
    "#                                 \"/Users/jmyles/repositories/rail_sompz/lib/python3.10/site-packages\"]\n",
    "# for rail_sompz_repo_develop in rail_sompz_repo_develop_list:\n",
    "#     sys.path.insert(0, rail_sompz_repo_develop)\n",
    "from rail.estimation.algos.sompz import SOMPZInformer\n",
    "from rail.estimation.algos.sompz import SOMPZEstimator"
   ]
  },
  {
   "cell_type": "code",
   "execution_count": 4,
   "id": "8231a13e-260f-4271-93ec-a893fb876268",
   "metadata": {
    "tags": []
   },
   "outputs": [],
   "source": [
    "from rail.core.data import TableHandle\n",
    "from rail.core.stage import RailStage"
   ]
  },
  {
   "cell_type": "code",
   "execution_count": 5,
   "id": "8cf95e06-d6a6-4ac9-9260-c5271ed6f40c",
   "metadata": {
    "tags": []
   },
   "outputs": [],
   "source": [
    "DS = RailStage.data_store\n",
    "DS.__class__.allow_overwrite = True"
   ]
  },
  {
   "cell_type": "code",
   "execution_count": 6,
   "id": "1446ecf8-2fe8-4216-8cab-8ef779e3e188",
   "metadata": {
    "tags": []
   },
   "outputs": [],
   "source": [
    "from rail.core.utils import find_rail_file\n",
    "#trainFile = find_rail_file('examples_data/testdata/test_dc2_training_9816.hdf5')\n",
    "testFile = find_rail_file('examples_data/testdata/test_dc2_validation_9816.hdf5')\n",
    "#deep_data = DS.read_file(\"training_data\", TableHandle, trainFile)\n",
    "#wide_data = DS.read_file(\"input_wide_data\", TableHandle, testFile)"
   ]
  },
  {
   "cell_type": "code",
   "execution_count": 7,
   "id": "7582c84a-eb2c-43df-bfcd-a92992d745b9",
   "metadata": {
    "tags": []
   },
   "outputs": [],
   "source": [
    "#datadir = '/global/cfs/projectdirs/desc-pz/users/jmyles/sompz_desc/' \n",
    "datadir = '/Users/jmyles/data/sompz_desc'\n",
    "hsc_file = os.path.join(datadir, \"hsc_deep_incl_nir_incl_specz_TEST_ONLY_NO_SCIENCE_2023-10-27.fits\")\n",
    "spec_data = DS.read_file(\"training_data\", TableHandle, hsc_file)\n",
    "balrog_data = DS.read_file(\"training_data\", TableHandle, hsc_file)\n",
    "wide_data = DS.read_file(\"training_data\", TableHandle, hsc_file)"
   ]
  },
  {
   "cell_type": "code",
   "execution_count": null,
   "id": "3fbf6d0e-b172-4190-af03-30b05de7d228",
   "metadata": {},
   "outputs": [],
   "source": [
    "balrog_data['overlap_weight'] = np.ones(len(balrog_data))\n",
    "wide_data['overlap_weight'] = np.ones(len(balrog_data))\n",
    "\n",
    "balrog_data['cell_deep'] = None\n",
    "balrog_data['cell_wide_unsheared'] = None\n",
    "wide_data['cell_wide_unsheared'] = None"
   ]
  },
  {
   "cell_type": "code",
   "execution_count": 8,
   "id": "7d8e9dbf-e1e3-4b6e-ada4-925930833bc2",
   "metadata": {
    "tags": []
   },
   "outputs": [],
   "source": [
    "subset = deep_data()[::10]"
   ]
  },
  {
   "cell_type": "code",
   "execution_count": 11,
   "id": "849a7977-5c7f-43ca-aa0a-3d25fd6852e9",
   "metadata": {
    "tags": []
   },
   "outputs": [],
   "source": [
    "smaller_data = DS.add_data(\"smaller_data\", subset, TableHandle)"
   ]
  },
  {
   "cell_type": "code",
   "execution_count": 12,
   "id": "b6fce31d-31b9-46d5-adff-e7c1056ec822",
   "metadata": {
    "tags": []
   },
   "outputs": [],
   "source": [
    "bands = ['u','g','r','i','z','y','J','H', 'K']\n",
    "\n",
    "deepbands = []\n",
    "deeperrs = []\n",
    "zeropts = []\n",
    "for band in bands:\n",
    "    deepbands.append(f'flux_DEEP_{band}')\n",
    "    deeperrs.append(f'flux_err_DEEP_{band}')\n",
    "    zeropts.append(30.)\n",
    "\n",
    "widebands = []\n",
    "wideerrs = []  \n",
    "for band in bands[1:5]:\n",
    "    widebands.append(f'{band}_cmodel_flux')\n",
    "    wideerrs.append(f'{band}_cmodel_fluxerr')\n",
    "    \n",
    "refband_deep=deepbands[3]\n",
    "refband_wide=widebands[2]"
   ]
  },
  {
   "cell_type": "code",
   "execution_count": 13,
   "id": "909db34c-8219-4cb2-9dd0-468a67df2a12",
   "metadata": {
    "tags": []
   },
   "outputs": [],
   "source": [
    "som_params = dict(inputs_deep=deepbands, input_errs_deep=deeperrs, \n",
    "                  zero_points_deep=zeropts, \n",
    "                  convert_to_flux_deep=False, convert_to_flux_wide=False, \n",
    "                  set_threshold_deep=True, thresh_val_deep=1.e-5, \n",
    "                  som_shape_wide=(25, 25), som_minerror_wide=0.005,\n",
    "                  som_take_log_wide=False, som_wrap_wide=False)"
   ]
  },
  {
   "cell_type": "code",
   "execution_count": 14,
   "id": "6a4bd7b9-b23e-4f30-bc6c-d553c63e5bac",
   "metadata": {
    "tags": []
   },
   "outputs": [
    {
     "name": "stdout",
     "output_type": "stream",
     "text": [
      "Inserting handle into data store.  model: TEST_HSC_model_2023-10-27b.pkl, som_estimator\n",
      "initialized model {'deep_som': <rail.estimation.algos.som.NoiseSOM object at 0x15db810f0>, 'wide_som': <rail.estimation.algos.som.NoiseSOM object at 0x15a4b85b0>, 'deep_columns': ['flux_DEEP_u', 'flux_DEEP_g', 'flux_DEEP_r', 'flux_DEEP_i', 'flux_DEEP_z', 'flux_DEEP_y', 'flux_DEEP_J', 'flux_DEEP_H', 'flux_DEEP_K'], 'deep_err_columns': ['flux_err_DEEP_u', 'flux_err_DEEP_g', 'flux_err_DEEP_r', 'flux_err_DEEP_i', 'flux_err_DEEP_z', 'flux_err_DEEP_y', 'flux_err_DEEP_J', 'flux_err_DEEP_H', 'flux_err_DEEP_K'], 'wide_columns': ['g_cmodel_flux', 'r_cmodel_flux', 'i_cmodel_flux', 'z_cmodel_flux'], 'wide_err_columns': ['g_cmodel_fluxerr', 'r_cmodel_fluxerr', 'i_cmodel_fluxerr', 'z_cmodel_fluxerr']}\n"
     ]
    }
   ],
   "source": [
    "som_estimate = SOMPZEstimator.make_stage(name=\"som_estimator\", \n",
    "                                         data_path=testFile,\n",
    "                                         deep_bands=deepbands,\n",
    "                                         err_deep_bands=deeperrs,  \n",
    "                                         ref_band_deep=refband_deep,\n",
    "                                         wide_bands=widebands,\n",
    "                                         err_wide_bands=wideerrs,    \n",
    "                                         ref_band_wide=refband_wide,\n",
    "                                         deep_groupname='', \n",
    "                                         hdf5_groupname='',\n",
    "                                         model=\"TEST_HSC_model_2023-10-27b.pkl\", \n",
    "                                         **som_params)"
   ]
  },
  {
   "cell_type": "code",
   "execution_count": 15,
   "id": "05be99ea-f667-49d8-923f-a57e01f3f80b",
   "metadata": {},
   "outputs": [],
   "source": [
    "nsamp = 100\n",
    "deep_fluxes_as_ndarray    = np.array(subset[deepbands], copy=False).view((np.float32, len(subset[deepbands].dtype.names)))[:nsamp]\n",
    "deep_flux_errs_as_ndarray = np.array(subset[deeperrs] , copy=False).view((np.float32, len(subset[deepbands].dtype.names)))[:nsamp]\n",
    "wide_fluxes_as_ndarray    = np.array(subset[widebands], copy=False).view((np.float32, len(subset[widebands].dtype.names)))[:nsamp]\n",
    "wide_flux_errs_as_ndarray = np.array(subset[wideerrs] , copy=False).view((np.float32, len(subset[widebands].dtype.names)))[:nsamp]"
   ]
  },
  {
   "cell_type": "code",
   "execution_count": 16,
   "id": "5f21520f-ed97-41d5-a32b-1ce7be1759f9",
   "metadata": {
    "tags": []
   },
   "outputs": [
    {
     "name": "stdout",
     "output_type": "stream",
     "text": [
      "classifying 0\n",
      "classifying 10\n",
      "classifying 20\n",
      "classifying 30\n",
      "classifying 40\n"
     ]
    },
    {
     "name": "stderr",
     "output_type": "stream",
     "text": [
      "/Users/jmyles/repositories/rail_sompz/src/rail/estimation/algos/som.py:360: RuntimeWarning: overflow encountered in exp\n",
      "  w = np.minimum(np.exp(2 * (vf - 4)), 1000.)\n"
     ]
    },
    {
     "name": "stdout",
     "output_type": "stream",
     "text": [
      "classifying 50\n",
      "classifying 60\n",
      "classifying 70\n",
      "classifying 80\n",
      "classifying 90\n",
      "classifying 0\n",
      "classifying 10\n",
      "classifying 20\n",
      "classifying 30\n",
      "classifying 40\n",
      "classifying 50\n",
      "classifying 60\n",
      "classifying 70\n",
      "classifying 80\n",
      "classifying 90\n",
      "Inserting handle into data store.  model: TEST_HSC_model_2023-10-27b.pkl, som_estimator\n",
      "> \u001b[0;32m/Users/jmyles/repositories/rail_sompz/src/rail/estimation/algos/sompz.py\u001b[0m(264)\u001b[0;36m_estimate_pdf\u001b[0;34m()\u001b[0m\n",
      "\u001b[0;32m    262 \u001b[0;31m        \u001b[0mpdb\u001b[0m\u001b[0;34m.\u001b[0m\u001b[0mset_trace\u001b[0m\u001b[0;34m(\u001b[0m\u001b[0;34m)\u001b[0m\u001b[0;34m\u001b[0m\u001b[0;34m\u001b[0m\u001b[0m\n",
      "\u001b[0m\u001b[0;32m    263 \u001b[0;31m        \u001b[0;31m# TODO: compute p(z|c), redshift distributions in deep SOM cells\u001b[0m\u001b[0;34m\u001b[0m\u001b[0;34m\u001b[0m\u001b[0m\n",
      "\u001b[0m\u001b[0;32m--> 264 \u001b[0;31m        \u001b[0mpz_c\u001b[0m \u001b[0;34m=\u001b[0m \u001b[0;32mNone\u001b[0m\u001b[0;34m\u001b[0m\u001b[0;34m\u001b[0m\u001b[0m\n",
      "\u001b[0m\u001b[0;32m    265 \u001b[0;31m        \u001b[0mprint\u001b[0m\u001b[0;34m(\u001b[0m\u001b[0;34m'hello, _estimate_pdf'\u001b[0m\u001b[0;34m)\u001b[0m\u001b[0;34m\u001b[0m\u001b[0;34m\u001b[0m\u001b[0m\n",
      "\u001b[0m\u001b[0;32m    266 \u001b[0;31m\u001b[0;34m\u001b[0m\u001b[0m\n",
      "\u001b[0m\n"
     ]
    },
    {
     "name": "stdin",
     "output_type": "stream",
     "text": [
      "ipdb>  q\n"
     ]
    }
   ],
   "source": [
    "som_estimate.estimate(deep_fluxes_as_ndarray,\n",
    "                      deep_flux_errs_as_ndarray,\n",
    "                      wide_fluxes_as_ndarray,\n",
    "                      wide_flux_errs_as_ndarray,)"
   ]
  },
  {
   "cell_type": "code",
   "execution_count": null,
   "id": "d2f18b07-506e-45bc-b6eb-57de237bdb5b",
   "metadata": {},
   "outputs": [],
   "source": []
  }
 ],
 "metadata": {
  "kernelspec": {
   "display_name": "rail_sompz_jtmyles",
   "language": "python",
   "name": "rail_sompz_jtmyles"
  },
  "language_info": {
   "codemirror_mode": {
    "name": "ipython",
    "version": 3
   },
   "file_extension": ".py",
   "mimetype": "text/x-python",
   "name": "python",
   "nbconvert_exporter": "python",
   "pygments_lexer": "ipython3",
   "version": "3.10.13"
  }
 },
 "nbformat": 4,
 "nbformat_minor": 5
}

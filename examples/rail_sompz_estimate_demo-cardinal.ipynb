{
 "cells": [
  {
   "cell_type": "code",
   "execution_count": null,
   "id": "f96741f3-100b-485a-a006-a7605c1392c7",
   "metadata": {},
   "outputs": [],
   "source": [
    "print('Begin script')"
   ]
  },
  {
   "cell_type": "code",
   "execution_count": null,
   "id": "f9463120",
   "metadata": {
    "tags": []
   },
   "outputs": [],
   "source": [
    "# usual imports\n",
    "import os\n",
    "import numpy as np\n",
    "import matplotlib.pyplot as plt\n",
    "from rail.core.utils import RAILDIR\n",
    "from rail.core import RailStage\n",
    "from rail.core.data import TableHandle\n",
    "#from rail.estimation.algos.sompz_version.utils import RAIL_SOMPZ_DIR\n",
    "#from rail.pipelines.estimation.estimate_all import EstimatePipeline\n",
    "#from rail.core import common_params\n",
    "#from rail.pipelines.utils.name_factory import NameFactory, DataType, CatalogType, ModelType, PdfType\n",
    "import qp\n",
    "import ceci"
   ]
  },
  {
   "cell_type": "code",
   "execution_count": null,
   "id": "c47a21ff-0644-4056-80c4-912f296c319e",
   "metadata": {
    "tags": []
   },
   "outputs": [],
   "source": [
    "from rail.estimation.algos.sompz import SOMPZEstimator"
   ]
  },
  {
   "cell_type": "code",
   "execution_count": null,
   "id": "9bf75c75-1712-405f-b31f-411157e7b2bd",
   "metadata": {
    "tags": []
   },
   "outputs": [],
   "source": [
    "import rail.estimation.algos.sompz as sompz_"
   ]
  },
  {
   "cell_type": "code",
   "execution_count": null,
   "id": "548080a3-04cb-481c-9970-0d5ebbaa036e",
   "metadata": {
    "tags": []
   },
   "outputs": [],
   "source": [
    "from rail.sompz.utils import mean_of_hist"
   ]
  },
  {
   "cell_type": "code",
   "execution_count": null,
   "id": "d97e2621-32f6-42a6-bacf-8fd823b49948",
   "metadata": {
    "tags": []
   },
   "outputs": [],
   "source": [
    "sompz_.__file__"
   ]
  },
  {
   "cell_type": "code",
   "execution_count": null,
   "id": "82ca15ec-cbae-4476-b3a7-9f96ab38b2bb",
   "metadata": {
    "tags": []
   },
   "outputs": [],
   "source": [
    "DS = RailStage.data_store\n",
    "DS.__class__.allow_overwrite = True"
   ]
  },
  {
   "cell_type": "code",
   "execution_count": null,
   "id": "32e89c55-1160-40f8-ab1c-500b16cb625b",
   "metadata": {
    "tags": []
   },
   "outputs": [],
   "source": [
    "#from rail.core.utils import find_rail_file\n",
    "\n",
    "# change to your rail location\n",
    "RAIL_SOMPZ_DIR = \"/global/u2/j/jmyles/repositories/LSSTDESC/rail_sompz/src\"\n",
    "\n",
    "datadir = '/pscratch/sd/j/jmyles/sompz_buzzard/2024-06-24/'\n",
    "datadir_run = os.path.join(datadir, 'run-2024-07-01')\n",
    "outdir = datadir_run\n",
    "os.system(f'mkdir -p {outdir}')\n",
    "\n",
    "testFileSpec = os.path.join(datadir, 'spec_data.h5') #'./datafiles/romandesc_deep_data_3700.hdf5'\n",
    "testFileBalrog = os.path.join(datadir, 'balrog_data_subcatalog.h5') #'./datafiles/romandesc_deep_data_3700.hdf5'\n",
    "testFileWide = os.path.join(datadir, 'wide_data_subsample.hdf5') #'./datafiles/romandesc_wide_data_5000.hdf5'\n",
    "\n",
    "spec_data = DS.read_file(\"input_spec_data\", TableHandle, testFileSpec)\n",
    "balrog_data = DS.read_file(\"input_balrog_data\", TableHandle, testFileBalrog)\n",
    "wide_data = DS.read_file(\"input_wide_data\", TableHandle, testFileWide)\n",
    "\n",
    "model_file = os.path.join(datadir_run, \"DEMO_CARDINAL_model_2024-06-24.pkl\")\n",
    "\n",
    "print('Catalogs specified')"
   ]
  },
  {
   "cell_type": "markdown",
   "id": "128107d5-a83e-4109-bc43-5f2dddf875e3",
   "metadata": {},
   "source": [
    "### Define metadata for SOMPZ inference"
   ]
  },
  {
   "cell_type": "code",
   "execution_count": null,
   "id": "cfdf983c-62b9-4356-b917-8d3462baa837",
   "metadata": {
    "tags": []
   },
   "outputs": [],
   "source": [
    "# bands = ['U','G','R','I','Z','Y','J','H','K']\n",
    "\n",
    "# deepbands = []\n",
    "# deeperrs = []\n",
    "# zeropts = []\n",
    "# for band in bands:\n",
    "#     deepbands.append(f'FLUX_{band}')\n",
    "#     deeperrs.append(f'FLUX_ERR_{band}')\n",
    "#     zeropts.append(30.)\n",
    "\n",
    "# widebands = []\n",
    "# wideerrs = []  \n",
    "# for band in bands[:6]:\n",
    "#     widebands.append(f'FLUX_{band}')\n",
    "#     wideerrs.append(f'FLUX_ERR_{band}')\n",
    "    \n",
    "# refband_deep=deepbands[3]\n",
    "# refband_wide=widebands[3]\n",
    "\n",
    "bands_deep = ['lsst_u', 'lsst_g', 'lsst_r', 'lsst_i', 'lsst_z', \n",
    "              'VISTA_Filters_at80K_forETC_Y', 'VISTA_Filters_at80K_forETC_J', 'VISTA_Filters_at80K_forETC_H', 'VISTA_Filters_at80K_forETC_Ks',]\n",
    "bands_wide = ['G','R','I','Z',] # 'U', 'Y','J','H','K'\n",
    "\n",
    "deepbands = []\n",
    "deeperrs = []\n",
    "zeropts = []\n",
    "for band in bands_deep:\n",
    "    deepbands.append(f'TRUEMAG_{band}')\n",
    "    deeperrs.append(f'TRUEMAG_ERR_{band}')\n",
    "    zeropts.append(30.)\n",
    "\n",
    "widebands = []\n",
    "wideerrs = []  \n",
    "for band in bands_wide: #[:6]:\n",
    "    widebands.append(f'FLUX_{band}')\n",
    "    wideerrs.append(f'FLUX_ERR_{band}')\n",
    "    \n",
    "    \n",
    "refband_deep=deepbands[3]\n",
    "refband_wide=widebands[2]"
   ]
  },
  {
   "cell_type": "code",
   "execution_count": null,
   "id": "87ea448a-388d-4e34-8794-9be925a0e5fd",
   "metadata": {
    "tags": []
   },
   "outputs": [],
   "source": [
    "sompz_params = dict(inputs_deep=deepbands, input_errs_deep=deeperrs,\n",
    "                    zero_points_deep=zeropts, \n",
    "                    inputs_wide=widebands, input_errs_wide=wideerrs,\n",
    "                    convert_to_flux_deep=True, convert_to_flux_wide=False, \n",
    "                    set_threshold_deep=True, thresh_val_deep=1.e-5, \n",
    "                    som_shape_wide=(32,32), som_minerror_wide=0.005,\n",
    "                    som_take_log_wide=False, som_wrap_wide=False,\n",
    "                    specz_name='Z',\n",
    "                    debug=False)"
   ]
  },
  {
   "cell_type": "code",
   "execution_count": null,
   "id": "fa7fa474",
   "metadata": {
    "tags": []
   },
   "outputs": [],
   "source": [
    "# bands = 'grizy'\n",
    "# maglims = [27.66, 27.25, 26.6, 26.24, 25.35]\n",
    "# maglim_dict={}\n",
    "# for band,limx in zip(bands, maglims):\n",
    "#     maglim_dict[f\"HSC{band}_cmodel_dered\"] = limx"
   ]
  },
  {
   "cell_type": "markdown",
   "id": "1fb3f80b-82b1-4ba9-867d-541552dc3b14",
   "metadata": {},
   "source": [
    "### Prepare and run SOMPZ Estimation"
   ]
  },
  {
   "cell_type": "code",
   "execution_count": null,
   "id": "9cd477c7-4b8b-466c-8958-c16f68ef7b81",
   "metadata": {
    "tags": []
   },
   "outputs": [],
   "source": [
    "print('make stage')\n",
    "som_estimate = SOMPZEstimator.make_stage(name=\"cardinal_som_estimator\", \n",
    "                                      spec_groupname=\"key\", \n",
    "                                      balrog_groupname=\"key\", \n",
    "                                      wide_groupname=\"\", #\"key\"\n",
    "                                      model=model_file, \n",
    "#                                      data_path=outdir, # TODO enable setting outdir for output files\n",
    "                                         **sompz_params)"
   ]
  },
  {
   "cell_type": "code",
   "execution_count": null,
   "id": "527109cc-4a4e-4c70-832e-341b5587cfc7",
   "metadata": {
    "tags": []
   },
   "outputs": [],
   "source": [
    "spec_data.data['key'].head()"
   ]
  },
  {
   "cell_type": "code",
   "execution_count": null,
   "id": "33462b65-806a-4cc1-84ef-0a2dd9e7a8c0",
   "metadata": {
    "tags": []
   },
   "outputs": [],
   "source": [
    "#som_estimate.estimate?"
   ]
  },
  {
   "cell_type": "code",
   "execution_count": null,
   "id": "bff21237-7615-4f1b-bd2c-afdfa7ef1e6e",
   "metadata": {
    "tags": []
   },
   "outputs": [],
   "source": [
    "print('estimate')\n",
    "output = som_estimate.estimate(spec_data, balrog_data, wide_data)"
   ]
  },
  {
   "cell_type": "code",
   "execution_count": null,
   "id": "06c199c5-74d6-4591-998e-8f21011284dd",
   "metadata": {
    "tags": []
   },
   "outputs": [],
   "source": [
    "outfile = os.path.join(outdir, 'output.npy')\n",
    "np.save(outfile, output)"
   ]
  },
  {
   "cell_type": "code",
   "execution_count": null,
   "id": "f717305e-b1f1-403e-8b51-14be82c6bff4",
   "metadata": {},
   "outputs": [],
   "source": [
    "print('Finished Estimation. Proceed to plotting.')"
   ]
  },
  {
   "cell_type": "markdown",
   "id": "c3329440-44b4-4b23-91b0-2cc58417740a",
   "metadata": {},
   "source": [
    "## display $n(z)$"
   ]
  },
  {
   "cell_type": "code",
   "execution_count": null,
   "id": "ef1e90f5-8a2d-4c7a-9e9d-4c97806e5839",
   "metadata": {
    "tags": []
   },
   "outputs": [],
   "source": [
    "# directly reading the hdf5 files with qp\n",
    "qp_file = os.path.join(RAIL_SOMPZ_DIR, '../examples/nz_cardinal_som_estimator.hdf5') # TODO make the hdf5 go in a dir we want\n",
    "qp_single_nz_sompz = qp.read(qp_file)"
   ]
  },
  {
   "cell_type": "code",
   "execution_count": null,
   "id": "367feb0a-32de-44c5-8088-579c2c88e158",
   "metadata": {
    "tags": []
   },
   "outputs": [],
   "source": [
    "nbins = 600\n",
    "z_grid = np.linspace(0,6,nbins)\n",
    "nz_sompz_grid = qp_single_nz_sompz.pdf(z_grid)"
   ]
  },
  {
   "cell_type": "code",
   "execution_count": null,
   "id": "efd48f6a-a49c-4f34-be6c-f3cff4383ad2",
   "metadata": {
    "tags": []
   },
   "outputs": [],
   "source": [
    "# Part of the spectroscopic samples failed and have z=-99, we should exclude them. \n",
    "specz_good = spec_data.data['key'][spec_data.data['key']['Z']>0.0]['Z']"
   ]
  },
  {
   "cell_type": "markdown",
   "id": "90fc1268-57ff-4856-9703-514b0fb6e19f",
   "metadata": {},
   "source": [
    "### Make a plot to compare the two summarizers and the true n(z)"
   ]
  },
  {
   "cell_type": "code",
   "execution_count": null,
   "id": "3f720e74-1107-43c9-9a23-26d053be793e",
   "metadata": {
    "tags": []
   },
   "outputs": [],
   "source": [
    "colors = ['tab:blue', 'tab:orange', 'tab:red', 'tab:green']\n",
    "fig, axarr = plt.subplots(2, 1, figsize=(12, 9))\n",
    "for i in range(4):\n",
    "    axarr[i%2].hist(specz_good,density = True ,bins = nbins,histtype = 'step', label = 'SOMPZ spec-z calibration sample' if i // 2 == 0 else '', \n",
    "                    color='k', alpha=0.25)\n",
    "    axarr[i%2].plot(z_grid, nz_sompz_grid[i], label = f'SOMPZ Estimate -- Bin {i+1}', color=colors[i])\n",
    "    axarr[i%2].set_xlim(0,3)\n",
    "    axarr[i%2].set_ylim(0,4)\n",
    "    axarr[1].set_xlabel('z')\n",
    "    axarr[i%2].set_ylabel('n(z)')\n",
    "    axarr[i%2].legend()\n",
    "    \n",
    "outfile = os.path.join(outdir, 'nz_sompz_est_script.png')\n",
    "fig.savefig(outfile, dpi=150)"
   ]
  },
  {
   "cell_type": "code",
   "execution_count": null,
   "id": "8908f2fa-7331-485a-b390-b289ccb53b81",
   "metadata": {},
   "outputs": [],
   "source": []
  }
 ],
 "metadata": {
  "kernelspec": {
   "display_name": "RAIL",
   "language": "python",
   "name": "rail"
  },
  "language_info": {
   "codemirror_mode": {
    "name": "ipython",
    "version": 3
   },
   "file_extension": ".py",
   "mimetype": "text/x-python",
   "name": "python",
   "nbconvert_exporter": "python",
   "pygments_lexer": "ipython3",
   "version": "3.10.14"
  }
 },
 "nbformat": 4,
 "nbformat_minor": 5
}

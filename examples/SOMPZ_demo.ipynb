{
 "cells": [
  {
   "cell_type": "markdown",
   "id": "85906442-6d29-407a-8d80-4108d45af015",
   "metadata": {},
   "source": [
    "# rail_sompz example notebook\n",
    "\n",
    "authors: Justin Myles. Based on notebook by Sam Schmidt. <br>\n",
    "Last successfully run: Mar 21, 2023<br>\n",
    "\n",
    "This notebook will go through a simple example of running rail_sompz estimate and inform stages with a small set of test data that ships with the RAIL package."
   ]
  },
  {
   "cell_type": "code",
   "execution_count": null,
   "id": "21de9fd6-30aa-4856-ab8a-245499a5de86",
   "metadata": {},
   "outputs": [],
   "source": [
    "import os\n",
    "import qp\n",
    "import pickle\n",
    "import matplotlib.pyplot as plt\n",
    "import numpy as np\n",
    "import pandas as pd\n",
    "import desc_sompz\n",
    "from rail.core.data import TableHandle\n",
    "from rail.core.stage import RailStage\n",
    "from rail.core.utils import RAILDIR\n",
    "from rail.estimation.algos.sompz_lite import SOMPZInformer, SOMPZEstimator"
   ]
  },
  {
   "cell_type": "markdown",
   "id": "b04c8503-74ee-4de7-b0f7-a2d8d1398db7",
   "metadata": {},
   "source": [
    "First, let's set up a DataStore, for more info on the DataStore, see the RAIL example notebooks:"
   ]
  },
  {
   "cell_type": "code",
   "execution_count": null,
   "id": "5190c489-b80c-4f4c-9eb0-19b3efe42cd8",
   "metadata": {},
   "outputs": [],
   "source": [
    "DS = RailStage.data_store\n",
    "DS.__class__.allow_overwrite = True"
   ]
  },
  {
   "cell_type": "markdown",
   "id": "2ab08dcf-72d2-4a6f-8037-14301f922c17",
   "metadata": {},
   "source": [
    "TODO get data"
   ]
  },
  {
   "cell_type": "code",
   "execution_count": null,
   "id": "c1e74f88-a0d4-42af-a4ac-4deefd0c8cc5",
   "metadata": {},
   "outputs": [],
   "source": [
    "trainFile = ''\n",
    "testFile = ''\n",
    "training_data = ''\n",
    "test_data = ''"
   ]
  },
  {
   "cell_type": "code",
   "execution_count": null,
   "id": "fbaac331-aa5a-4a90-8b85-16929cffc751",
   "metadata": {},
   "outputs": [],
   "source": [
    "RAILDIR"
   ]
  },
  {
   "cell_type": "markdown",
   "id": "979d5363-af4e-4478-9820-29214292bf16",
   "metadata": {},
   "source": [
    "## running SOMPZEstimator\n",
    "\n",
    "SOMPZ is a TODO code that works by TODO.\n",
    "\n",
    "We need to set up a RAIL stage for the default run of SOMPZ:"
   ]
  },
  {
   "cell_type": "code",
   "execution_count": null,
   "id": "a03c3e9f-7080-4334-bcf1-7993239b69db",
   "metadata": {},
   "outputs": [],
   "source": [
    "# hdfnfile = os.path.join(RAILDIR, \"rail/examples_data/estimation_data/data/CWW_HDFN_prior.pkl\")\n",
    "# default_dict = dict(hdf5_groupname=\"photometry\", output=\"sompz_results_defaultprior.hdf5\",\n",
    "#                     prior_band=\"mag_i_lsst\", no_prior=False)\n",
    "# run_default = SOMPZEstimator.make_stage(name=\"sompz_def_prior\", model=hdfnfile, **default_dict)"
   ]
  },
  {
   "cell_type": "markdown",
   "id": "e8bba83c-d3ed-4385-852c-639e59170c48",
   "metadata": {},
   "source": [
    "Let's run the estimate stage, "
   ]
  },
  {
   "cell_type": "code",
   "execution_count": null,
   "id": "2b5cd587-122e-41ef-9d3f-77333a54c6bc",
   "metadata": {},
   "outputs": [],
   "source": [
    "# %%time\n",
    "# run_default.estimate(test_data)"
   ]
  },
  {
   "cell_type": "code",
   "execution_count": null,
   "id": "77dfd0ce-7765-4bfd-b3a0-2b3beb0cccd2",
   "metadata": {},
   "outputs": [],
   "source": [
    "# default_result = qp.read(\"sompz_results_defaultprior.hdf5\")"
   ]
  },
  {
   "cell_type": "markdown",
   "id": "ecfd084c-4fab-459d-b39c-6f82240f1733",
   "metadata": {},
   "source": [
    "Plot the mode of these \"default run\" PDFs against the true redshifts, we have the true redshifts stored in the `test_data` in the DataStore, and the modes are stored as ancillary data in the results that we just produced:"
   ]
  },
  {
   "cell_type": "code",
   "execution_count": null,
   "id": "31cb0083-750b-496a-b8c0-871c98ea327a",
   "metadata": {},
   "outputs": [],
   "source": [
    "# sz = test_data()['photometry']['redshift']"
   ]
  },
  {
   "cell_type": "code",
   "execution_count": null,
   "id": "1b887438-f9d9-491d-8ca0-cf313fab1ce8",
   "metadata": {},
   "outputs": [],
   "source": [
    "# plt.figure(figsize=(8,8))\n",
    "# plt.scatter(sz, default_result.ancil['zmode'].flatten(), s=2, c='k', label='default prior mode')\n",
    "# plt.plot([0,3], [0,3], 'b--')\n",
    "# plt.xlabel(\"redshift\")\n",
    "# plt.ylabel(\"photo-z mode\")"
   ]
  },
  {
   "cell_type": "code",
   "execution_count": null,
   "id": "e9ef1cc3-2368-4426-b570-0a788f39846f",
   "metadata": {},
   "outputs": [],
   "source": [
    "# colordict = {}\n",
    "# bands = ['u', 'g', 'r', 'i', 'z', 'y']\n",
    "# for i in range(5):\n",
    "#     colordict[f'{bands[i]}{bands[i+1]}'] = test_data()['photometry'][f'mag_{bands[i]}_lsst'] - test_data()['photometry'][f'mag_{bands[i+1]}_lsst']\n",
    "# colordict['tb'] = default_result.ancil['tb'].flatten()\n",
    "# colordict['todds'] = default_result.ancil['todds'].flatten()\n",
    "# colordict['sz'] = sz\n",
    "# colordf = pd.DataFrame(colordict)\n",
    "# sed_col = ['r', 'g', 'm', 'b', 'royalblue', 'gray', 'k']\n",
    "# sed_label = ['Ell', 'Sbc', 'Scd', 'Im', 'SB3', 'SB2', 'ssp25Myr', 'ssp5Myr']"
   ]
  },
  {
   "cell_type": "code",
   "execution_count": null,
   "id": "59f0a32a-382f-42dc-afda-527f6e6500dc",
   "metadata": {},
   "outputs": [],
   "source": [
    "# plt.figure(figsize=(10,10))\n",
    "# for i,col, lab in zip(range(8), sed_col, sed_label):\n",
    "#     tbmask = (np.isclose(colordf['tb'], i+1)) # note the 1-offset here because of how DESC_SOMPZ labels the SED types\n",
    "#     plt.scatter(colordf['gr'][tbmask], colordf['ri'][tbmask], color=col, s=2, label=lab)\n",
    "# plt.xlim(-1,2.25)\n",
    "# plt.xlabel(\"g-r\", fontsize=13)\n",
    "# plt.ylabel(\"r-i\", fontsize=13)\n",
    "# plt.legend(loc='upper left', fontsize=10)"
   ]
  },
  {
   "cell_type": "code",
   "execution_count": null,
   "id": "32143555-6e79-4dd5-a128-40afdb8c4a97",
   "metadata": {},
   "outputs": [],
   "source": [
    "# plt.figure(figsize=(10,10))\n",
    "# lowtoddsmask = (colordf['todds']<0.25)\n",
    "# plt.scatter(colordf['gr'], colordf['ri'], color='k', s=8)\n",
    "# plt.scatter(colordf['gr'][lowtoddsmask], colordf['ri'][lowtoddsmask], color='r', s=4, label='todds < 0.25')\n",
    "# plt.xlim(-1,2.25)\n",
    "# plt.xlabel(\"g-r\", fontsize=13)\n",
    "# plt.ylabel(\"r-i\", fontsize=13)\n",
    "# plt.legend(loc='upper left', fontsize=12)"
   ]
  },
  {
   "cell_type": "markdown",
   "id": "e80d59ce-ca73-4bf3-9f3d-682c4dbdcb3e",
   "metadata": {},
   "source": [
    "# SOMPZInformer\n",
    "\n",
    "If you want to TODO, there is an `SOMPZInformer` stage that allows you to TODO (e.g. use SOM trained on specific data?)"
   ]
  },
  {
   "cell_type": "code",
   "execution_count": null,
   "id": "5a283f01-f110-436c-9bf1-ec9d702782f3",
   "metadata": {},
   "outputs": [],
   "source": [
    "# train_dict = dict(hdf5_groupname=\"photometry\", model=\"test_9816_demo_prior.pkl\",\n",
    "#                  type_file=\"test_dc2_training_9816_broadtypes.hdf5\",\n",
    "#                  nt_array=[1,2,5])\n",
    "# run_sompz_train = SOMPZInformer.make_stage(name=\"sompz_new_prior\", **train_dict)"
   ]
  },
  {
   "cell_type": "code",
   "execution_count": null,
   "id": "9f2e34ec-19d2-4be6-9c06-35574d5fd798",
   "metadata": {},
   "outputs": [],
   "source": [
    "# %%time\n",
    "# run_sompz_train.inform(training_data)"
   ]
  },
  {
   "cell_type": "code",
   "execution_count": null,
   "id": "87139650-0404-4a83-8b5e-34328cbd5374",
   "metadata": {},
   "outputs": [],
   "source": [
    "# from desc_sompz.prior_from_dict import prior_function\n",
    "\n",
    "# with open(hdfnfile, \"rb\") as f:\n",
    "#     hdfnmodel = pickle.load(f)\n",
    "# hdfnmodel"
   ]
  },
  {
   "cell_type": "code",
   "execution_count": null,
   "id": "a3c748e5-316f-4d6d-b9ce-0ca7344d063d",
   "metadata": {},
   "outputs": [],
   "source": [
    "# with open(\"test_9816_demo_prior.pkl\", \"rb\") as f:\n",
    "#     newmodel = pickle.load(f)\n",
    "# newmodel"
   ]
  },
  {
   "cell_type": "code",
   "execution_count": null,
   "id": "06d073a1-7866-4379-8da3-f92f385447c4",
   "metadata": {},
   "outputs": [],
   "source": [
    "# zgrid=np.linspace(0,3,301)\n",
    "# defprior20 = prior_function(zgrid, 20., hdfnmodel, 8)\n",
    "# defprior23 = prior_function(zgrid, 23., hdfnmodel, 8)\n",
    "# defprior25 = prior_function(zgrid, 25., hdfnmodel, 8)"
   ]
  },
  {
   "cell_type": "code",
   "execution_count": null,
   "id": "fa22222b-7136-44b0-87d3-da324ccd5b81",
   "metadata": {},
   "outputs": [],
   "source": [
    "# newprior23 = prior_function(zgrid, 23., newmodel, 8)\n",
    "# newprior25 = prior_function(zgrid, 25., newmodel, 8)\n",
    "# newprior20 = prior_function(zgrid, 20., newmodel, 8)"
   ]
  },
  {
   "cell_type": "code",
   "execution_count": null,
   "id": "00d8eb57-1af4-4b3e-b479-6a75ec8bc1fb",
   "metadata": {},
   "outputs": [],
   "source": [
    "# seddict = {'El': 0, 'Sp': 1, 'Irr/SB': 7}\n",
    "# multiplier = [1.0, 2.0, 5.0]\n",
    "# sedcol = ['r', 'm', 'b']\n",
    "# fig, (axs, axs2, axs3) = plt.subplots(3, 1, figsize=(10,12))\n",
    "# for sed, col, multi in zip(seddict, sedcol, multiplier):\n",
    "#     axs.plot(zgrid, defprior20[:,seddict[sed]]*multi, color=col, lw=2,ls='--', label=f\"hdfn prior {sed}\")\n",
    "#     axs.plot(zgrid, newprior20[:,seddict[sed]]*multi, color=col, ls='-', label=f\"new prior {sed}\")\n",
    "#     axs.set_title(\"priors for mag=20.0\")\n",
    "#     axs2.plot(zgrid, defprior23[:,seddict[sed]]*multi, color=col, lw=2,ls='--', label=f\"hdfn prior {sed}\")\n",
    "#     axs2.plot(zgrid, newprior23[:,seddict[sed]]*multi, color=col, ls='-', label=f\"new prior {sed}\")\n",
    "#     axs2.set_title(\"priors for mag=23.0\")\n",
    "#     axs3.plot(zgrid, defprior25[:,seddict[sed]]*multi, color=col, lw=2,ls='--', label=f\"hdfn prior {sed}\")\n",
    "#     axs3.plot(zgrid, newprior25[:,seddict[sed]]*multi, color=col, ls='-', label=f\"new prior {sed}\")\n",
    "#     axs3.set_xlabel(\"redshift\")\n",
    "#     axs3.set_title(\"priors for mag=25.0\")\n",
    "#     axs3.set_ylabel(\"prior_probability\")\n",
    "#     axs.set_ylabel(\"prior probability\")\n",
    "# axs.legend(loc=\"upper right\", fontsize=10)"
   ]
  },
  {
   "cell_type": "code",
   "execution_count": null,
   "id": "00c43a9a-4afe-4d8b-8aeb-5cd4845bdbe0",
   "metadata": {},
   "outputs": [],
   "source": [
    "# rerun_dict = dict(hdf5_groupname=\"photometry\", output=\"sompz_results_rerun.hdf5\", prior_band='mag_i_lsst',\n",
    "#                  no_prior=False)\n",
    "# rerun = SOMPZEstimator.make_stage(name=\"rerun_sompz\", **rerun_dict, \n",
    "#                             model=run_sompz_train.get_handle('model'))"
   ]
  },
  {
   "cell_type": "code",
   "execution_count": null,
   "id": "1fd05674-9cb6-4c0f-94dc-f3947d711f41",
   "metadata": {},
   "outputs": [],
   "source": [
    "# %%time\n",
    "# rerun.estimate(test_data)"
   ]
  },
  {
   "cell_type": "code",
   "execution_count": null,
   "id": "17e9e158-708c-4dc0-b763-838123eaabf8",
   "metadata": {},
   "outputs": [],
   "source": [
    "# rerun_res = qp.read(\"sompz_results_rerun.hdf5\")\n",
    "# #rerun_res = qp.read(\"sompz_results_newprior_STANDALONE.hdf5\")"
   ]
  },
  {
   "cell_type": "markdown",
   "id": "8810b988-4c59-4a30-b0b9-8c2da6af76e1",
   "metadata": {},
   "source": [
    "And let's plot the modes fore this new run as well as our run with the default prior:"
   ]
  },
  {
   "cell_type": "code",
   "execution_count": null,
   "id": "b8380c0e-6632-42fd-ab7e-bfa057f68ff9",
   "metadata": {},
   "outputs": [],
   "source": [
    "# plt.figure(figsize=(8,8))\n",
    "# plt.scatter(sz, rerun_res.ancil['zmode'].flatten(), s=8, c='k', label='custom prior zmode')\n",
    "# plt.scatter(sz, default_result.ancil['zmode'].flatten(), s=2, c='r', label='default prior mode')\n",
    "# plt.plot([0,3], [0,3], 'b--')\n",
    "# plt.xlabel(\"redshift\")\n",
    "# plt.ylabel(\"photo-z mode\")\n",
    "# plt.legend(loc='upper center', fontsize=10)"
   ]
  },
  {
   "cell_type": "code",
   "execution_count": null,
   "id": "84134c86-f752-49c1-aa6a-cf48a6e999f9",
   "metadata": {},
   "outputs": [],
   "source": [
    "# delta_mode = rerun_res.ancil['zmode'].flatten() - default_result.ancil['zmode'].flatten()\n",
    "# largedelta = (np.abs(delta_mode)>2.5)\n",
    "# print(f\"{np.sum(largedelta)} gals have large shift in mode with indices:\\n\\n\")\n",
    "# for i, delt in enumerate(largedelta):\n",
    "#     if delt:\n",
    "#         print(i)"
   ]
  },
  {
   "cell_type": "code",
   "execution_count": null,
   "id": "8b948437-994c-4a57-bf43-c775159fcb65",
   "metadata": {},
   "outputs": [],
   "source": [
    "# whichone = 109\n",
    "# fig, axs = plt.subplots(1,1, figsize=(10,6))\n",
    "# default_result.plot_native(key=whichone, axes=axs, label=\"CWWHDFN prior\")\n",
    "# rerun_res.plot_native(key=whichone, axes=axs, label=\"custom prior\")\n",
    "# axs.set_xlabel(\"redshift\")\n",
    "# axs.set_ylabel(\"PDF\")\n",
    "# axs.legend(loc=\"upper center\", fontsize=10)"
   ]
  }
 ],
 "metadata": {
  "kernelspec": {
   "display_name": "Python 3 (ipykernel)",
   "language": "python",
   "name": "python3"
  },
  "language_info": {
   "codemirror_mode": {
    "name": "ipython",
    "version": 3
   },
   "file_extension": ".py",
   "mimetype": "text/x-python",
   "name": "python",
   "nbconvert_exporter": "python",
   "pygments_lexer": "ipython3",
   "version": "3.8.11"
  }
 },
 "nbformat": 4,
 "nbformat_minor": 5
}

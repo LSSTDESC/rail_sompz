{
 "cells": [
  {
   "cell_type": "markdown",
   "id": "7959e629-7461-41e7-b0ec-b158f5c5b30b",
   "metadata": {},
   "source": [
    "# RAIL SOMPZ Informer\n",
    "\n",
    "**Author:** Sam Schmidt, Justin Myles\n",
    "\n",
    "**Last Successfully Run:** April 30, 2024\n",
    "\n",
    "This notebook will demonstrate the training of the \"deep\" and \"wide\" Self-Organized Maps (SOMs) used by `rail_sompz`.  `rail_sompz` is a ported version of the Dark Energy Survey (DES) SOM-based tomographic redshift bin software.\n",
    "This notebook relies on methods and code developed originally for the following publications:\n",
    "\n",
    "A. Campos et al. (DES Collaboration) - Enhancing weak lensing redshift distribution characterization by optimizing the Dark Energy Survey Self-Organizing Map Photo-z method (in preparation)\n",
    "\n",
    "[C. Sánchez, M. Raveri, A. Alarcon, G. Bernstein - Propagating sample variance uncertainties in redshift calibration: simulations, theory, and application to the COSMOS2015 data](https://doi.org/10.1093/mnras/staa2542)\n",
    "\n",
    "[R. Buchs, et al. - Phenotypic redshifts with self-organizing maps: A novel method to characterize redshift distributions of source galaxies for weak lensing](https://doi.org/10.1093/mnras/stz2162)\n",
    "\n",
    "[J. Myles, A. Alarcon, et al. (DES Collaboration) - Dark Energy Survey Year 3 results: redshift calibration of the weak lensing source galaxies](https://doi.org/10.1093/mnras/stab1515)\n",
    "\n",
    "Like other RAIL estimators and summarizers, `rail_sompz` consists of an informer stage and an estimator stage, in this case `SOMPZInformer` and `SOMPZEstimator`.  `SOMPZInformer` takes in both the \"deep\" data (usually taken over a smaller area than our \"wide\" data, and usually including additional photometric bands) and \"wide\" data and trains a pair of SOMs that will be used by the estimator stage.  \n",
    "\n",
    "There are a number of **configuration parameters** that the stage uses to control aspects of the SOM training:\n",
    "- redshift_col: the name of the redshift column\n",
    "- deep_groupname: the hdf5_groupname for deep data\n",
    "- wide_groupname: the hdf5_groupname for wide data\n",
    "- inputs_deep: the list of the names of columns to be used as inputs for deep data\n",
    "- input_errs_deep: the list of the names of columns containing errors on inputs for deep data\n",
    "- inputs_wide: the list of the names of columns to be used as inputs for wide data\n",
    "- input_errs_wide: the list of the names of columns containing errors on inputs for wide data\n",
    "- zero_points_deep: the list of zero points for converting mags to fluxes for deep data, if needed\n",
    "- zero_points_wide: the list of zero points for converting mags to fluxes for wide data, if needed\n",
    "- som_shape_deep: a tuple defining the shape for the deep som, must be a 2-element tuple, e.g. `(32, 32)`\n",
    "- som_shape_wide: a tuple defining the shape for the wide som, must be a 2-element tuple, e.g. `(25, 25)`\n",
    "- som_minerror_deep: the floor value placed on observational error on each feature in deep som\n",
    "- som_minerror_wide: the floor value placed on observational error on each feature in wide som\n",
    "- som_wrap_deep: boolean flag to set whether the deep SOM has periodic boundary conditions\n",
    "- som_wrap_wide: boolean flag to set whether the wide SOM has periodic boundary conditions\n",
    "- som_take_log_deep: boolean flag to set whether to take log of inputs (i.e. for fluxes) for deep som\n",
    "- som_take_log_wide: boolean flag to set whether to take log of inputs (i.e. for fluxes) for wide som\n",
    "- convert_to_flux_deep: boolean flag for whether to convert input columns to fluxes for deep data, set to true if inputs are mags and to False if inputs are already fluxes\n",
    "- convert_to_flux_wide: boolean flag for whether to convert input columns to fluxes for wide data\n",
    "- set_threshold_deep: boolean flag for whether to replace values below a threshold with a set number\n",
    "- thresh_val_deep: threshold value for set_threshold for deep data\n",
    "- set_threshold_wide: boolean flag for whether to replace values below a threshold with a set number\n",
    "- thresh_val_wide: threshold value for set_threshold for wide data\n",
    "\n",
    "We will set several of these values in our example, any values not explicitly set will revert to their defaults.  \n",
    "\n",
    "Let's start by importing a few packages, including `SOMPZInformer` and setting up the RAIL DataStore:"
   ]
  },
  {
   "cell_type": "code",
   "execution_count": null,
   "id": "f9463120",
   "metadata": {
    "tags": []
   },
   "outputs": [],
   "source": [
    "# usual imports\n",
    "import os\n",
    "import numpy as np\n",
    "#from rail.core.utils import RAILDIR\n",
    "import matplotlib.pyplot as plt"
   ]
  },
  {
   "cell_type": "code",
   "execution_count": null,
   "id": "175e5a23-c2cf-40df-ab43-ca26a4fd78ea",
   "metadata": {
    "tags": []
   },
   "outputs": [],
   "source": [
    "from rail.estimation.algos.sompz import SOMPZInformer"
   ]
  },
  {
   "cell_type": "code",
   "execution_count": null,
   "id": "f01ba7eb-9b07-4284-8885-9ca0aa6b0585",
   "metadata": {
    "tags": []
   },
   "outputs": [],
   "source": [
    "from rail.core.data import TableHandle\n",
    "from rail.core.stage import RailStage"
   ]
  },
  {
   "cell_type": "code",
   "execution_count": null,
   "id": "4e01f0ea-3687-4725-bc26-9d65d3100482",
   "metadata": {
    "tags": []
   },
   "outputs": [],
   "source": [
    "DS = RailStage.data_store\n",
    "DS.__class__.allow_overwrite = True"
   ]
  },
  {
   "cell_type": "markdown",
   "id": "249fa375-a847-4482-9a68-763f3cf4849d",
   "metadata": {},
   "source": [
    "Next, let's read in some test data. We'll use some small datasets drawn from the Roman-DESC simulations, and where we have incorporated expected 10-year depth photometric uncertainties into the data via the photerr-based error models in RAIL.\n",
    "\n",
    "For the \"deep\" SOM, the data file is named `romandesc_deep_data_3700.hdf5` and includes the LSST `ugrizy` bands as well as the Roman `JHK` bands, for **nine** total bands.  The extra near-infrared information in the `JHK` bands will be crucial in mapping out the color to redshift relation for our deep sample.   There are 3700 galaxies in this file, cut to include only galaxies with i<25.0.  This sample size is smaller than those that we will typically use, but enough for a functional example.\n",
    "\n",
    "\n",
    "For the \"wide\" som, the data file is named `romandesc_wide_data_5000.hdf5` and we will only use the `ugrizy` bands in the analysis.  There are 5000 galaxies in this file.\n",
    "\n",
    "The data is included in a subdirectory of this directory, `examples/datafiles/`, and we can read them directly into the Data Store:"
   ]
  },
  {
   "cell_type": "code",
   "execution_count": null,
   "id": "0b1bb980-447f-461c-bbe3-72e57cb9e9f9",
   "metadata": {
    "tags": []
   },
   "outputs": [],
   "source": [
    "#from rail.core.utils import find_rail_file\n",
    "trainFileDeep = './datafiles/romandesc_deep_data_3700.hdf5'\n",
    "trainFileWide = './datafiles/romandesc_wide_data_5000.hdf5'\n",
    "deep_data = DS.read_file(\"input_deep_data\", TableHandle, trainFileDeep)\n",
    "wide_data = DS.read_file(\"input_wide_data\", TableHandle, trainFileDeep)"
   ]
  },
  {
   "cell_type": "markdown",
   "id": "920ad14f-0d8d-47f9-bb74-14a913829a62",
   "metadata": {},
   "source": [
    "Let's take a look at what the names of the columns are in the deep file:"
   ]
  },
  {
   "cell_type": "code",
   "execution_count": null,
   "id": "22eda622-abe1-4e56-9e54-238840cb91ca",
   "metadata": {},
   "outputs": [],
   "source": [
    "print('\\n'.join(sorted(deep_data().keys())))"
   ]
  },
  {
   "cell_type": "markdown",
   "id": "61b3d490-115c-4ba3-94e2-c4d37e0b9e37",
   "metadata": {},
   "source": [
    "We have the Rubin `ugrizy` bands and their errors with names like `u` and `u_err`, the Roman NIR bands `YJHF` and their errors, and the colors for adjacent bands, e.g. `ug` is really `u-g`.  We will use just the magnitude quantities and not the colors when constructing our example SOM (for more information on this choice, see the Appendix A of Sánchez et al. 2020) .  For our \"deep\" SOM we will use all of `ugrizyJHK`, while for the \"wide\" SOM we will use only `ugrizy`.  Let's set up some lists with our magnitudes that will be used in our configs.  The SOM also requires a zero point if we are going to convert to flux (which we are), so we will supply default zero points of 30.0 for all bands in this demo:"
   ]
  },
  {
   "cell_type": "code",
   "execution_count": null,
   "id": "930bd934-ed4b-4c83-9b63-85d07bea735e",
   "metadata": {
    "tags": []
   },
   "outputs": [],
   "source": [
    "bands = ['u','g','r','i','z','y','J','H','K']\n",
    "\n",
    "deepbands = []\n",
    "deeperrs = []\n",
    "zeropts = []\n",
    "for band in bands:\n",
    "    deepbands.append(f'{band}')\n",
    "    deeperrs.append(f'{band}_err')\n",
    "    zeropts.append(30.)\n",
    "\n",
    "widebands = []\n",
    "wideerrs = []  \n",
    "for band in bands[:6]:\n",
    "    widebands.append(f'{band}')\n",
    "    wideerrs.append(f'{band}_err')\n",
    "    \n",
    "refband_deep=deepbands[3]\n",
    "refband_wide=widebands[3]"
   ]
  },
  {
   "cell_type": "code",
   "execution_count": null,
   "id": "4591505b-e76b-4e96-82cb-78cdc54249f4",
   "metadata": {},
   "outputs": [],
   "source": [
    "print(deepbands)"
   ]
  },
  {
   "cell_type": "code",
   "execution_count": null,
   "id": "5cdfde11-f43d-4c0b-a4c7-8c88e1cd82b5",
   "metadata": {},
   "outputs": [],
   "source": [
    "print(widebands)"
   ]
  },
  {
   "cell_type": "markdown",
   "id": "2796070e-548f-42f0-a1ab-719fa13e4733",
   "metadata": {},
   "source": [
    "Next, let's make a dictionary of the parameters that we'll feed into the informer for the deep SOM and wide SOM, including the non-default names of the input columns (`inputs_deep`) and the errors (`input_errs_deep`) and their wide counterparts.  We'll feed in a list for the zero points (`zero_points`) as well.  We want to convert to flux so we set `convert_to_flux_deep` and `convert_to_flux_wide` to `True`.  We will also apply a threshold cut to the deep SOM by setting `set_threshold_deep` to `True` and set the threshold value with `thresh_val_deep` = 1.e-5.  We can set the shape of the SOMs or let them take their default values.  Let's leave the \"deep\" SOM with its default size of `(32, 32)` by not supplying a value, and change the \"wide\" SOM size with `som_shape_wide=(25,25)`.  If your input data is flux-like (which ours is not) and want it to look more magnitude-like, you can set  `som_take_log_wide` to `True` if you want to take the log of the data before creating the SOM.  We will set this to `False`, as we want to work in converted flux space.  And, finally `som_wrap_wide` sets whether or not to use periodic boundaries in the SOM, we will set this to `False` for the wide SOM."
   ]
  },
  {
   "cell_type": "code",
   "execution_count": null,
   "id": "0a722208-6dbf-469c-921d-969ed78aa5b4",
   "metadata": {
    "tags": []
   },
   "outputs": [],
   "source": [
    "som_params = dict(inputs_deep=deepbands, input_errs_deep=deeperrs,\n",
    "                  zero_points_deep=zeropts, \n",
    "                  inputs_wide=widebands, input_errs_wide=wideerrs,\n",
    "                  convert_to_flux_deep=True, convert_to_flux_wide=True, \n",
    "                  set_threshold_deep=True, thresh_val_deep=1.e-5, \n",
    "                  som_shape_wide=(25, 25), som_minerror_wide=0.005,\n",
    "                  som_take_log_wide=False, som_wrap_wide=False)"
   ]
  },
  {
   "cell_type": "markdown",
   "id": "28c0560e-2891-47b7-a24b-a6311dc08056",
   "metadata": {},
   "source": [
    "If you have used other RAIL packages you may have seen `hdf5_groupname` as a parameter where you may specify an HDF5 group where your input data may live.  SOMPZ has eqivalent `deep_groupname` and `wide_groupname` config parameters.  In our example data, our magnitudes are in the top level of the HDF5 file and not in a sub-group, so we will set `deep_groupname` and `wide_groupname` to `\"\"` to reflect this.\n",
    "\n",
    "We will also supply the `model` config parameter, which will set the name for the pickle file that will hold our output model consisting of the two SOMs and a set of configuration parameters.  This model will be used by the Estimation stage later in the demo:"
   ]
  },
  {
   "cell_type": "code",
   "execution_count": null,
   "id": "47abc0e5-1408-4bf7-ba4f-df6994285a1a",
   "metadata": {
    "tags": []
   },
   "outputs": [],
   "source": [
    "som_inform = SOMPZInformer.make_stage(name=\"som_informer\", \n",
    "                                      deep_groupname=\"\", \n",
    "                                      wide_groupname=\"\",\n",
    "                                      model=\"DEMO_ROMANDESC_model.pkl\", **som_params)"
   ]
  },
  {
   "cell_type": "markdown",
   "id": "d22a7222-68e2-422a-b71a-f7fdfbb13a27",
   "metadata": {},
   "source": [
    "Now, run the informer:"
   ]
  },
  {
   "cell_type": "code",
   "execution_count": null,
   "id": "4c18fbfe-a72d-4c1c-86bd-1e2462686cbc",
   "metadata": {
    "tags": []
   },
   "outputs": [],
   "source": [
    "%%time\n",
    "som_inform.inform(deep_data, wide_data)"
   ]
  },
  {
   "cell_type": "markdown",
   "id": "6d22853e-ae95-4977-b1a9-08b86c50382c",
   "metadata": {},
   "source": [
    "Our small samples of 3750 deep and 5000 wide galaxies should take under a minute to train, and should create a file `DEMO_ROMANDESC_model.pkl`.  Let's look at the results by reading the model we just wrote out, and see what it contains.  It should be a dictionary that contains two soms: `deep_som` and `wide_som`, along with the `deep_columns`, `wide_columns`, `deep_err_columns`, and `wide_err_columns` lists.  We store these column names as they basically define the ordering of the columns and errors, and we'll want that the same for data that we pass in for the estimation stage."
   ]
  },
  {
   "cell_type": "code",
   "execution_count": null,
   "id": "f75a40ca-50d4-4045-93a4-e28564e75817",
   "metadata": {
    "tags": []
   },
   "outputs": [],
   "source": [
    "import pickle"
   ]
  },
  {
   "cell_type": "code",
   "execution_count": null,
   "id": "526df18a-a12e-4d75-b832-4ad270909b0d",
   "metadata": {
    "tags": []
   },
   "outputs": [],
   "source": [
    "#with open(\"TEST_HSC_model_2023-10-27.pkl\", \"rb\") as f:\n",
    "with open(\"TEST_ROMANDESC_model_BIG.pkl\", \"rb\") as f:\n",
    "    model = pickle.load(f)"
   ]
  },
  {
   "cell_type": "code",
   "execution_count": null,
   "id": "de6ad484-9c9d-4d40-8f20-29f2ee3a101c",
   "metadata": {
    "tags": []
   },
   "outputs": [],
   "source": [
    "model"
   ]
  },
  {
   "cell_type": "markdown",
   "id": "89a02500-a1f2-4799-9305-df91e467707f",
   "metadata": {},
   "source": [
    "There are some handy plotting functions available in the `rail.estimation.algos.som.py` file that enable us to visualize our SOM for some basic visual checks.  Let's first plot the occupation of cells broken up by colors, i.e. the mean values of g-i, i-y, u-g, and the i-band magnitude for each cell.  First, the deep SOM (using the `somDomainColorsnok` to plot quantities using only have ugrizy):"
   ]
  },
  {
   "cell_type": "code",
   "execution_count": null,
   "id": "7357e9a4-ffc8-4ad5-98e9-1f03d5de4064",
   "metadata": {
    "tags": []
   },
   "outputs": [],
   "source": [
    "import rail.estimation.algos.som as SOMFUNCS"
   ]
  },
  {
   "cell_type": "code",
   "execution_count": null,
   "id": "63a64836-a4a9-4e8e-8c37-d80f681eb699",
   "metadata": {
    "tags": []
   },
   "outputs": [],
   "source": [
    "SOMFUNCS.somDomainColorsnok(model['deep_som'])"
   ]
  },
  {
   "cell_type": "markdown",
   "id": "2dc24ced-1680-4b6a-9842-e397ae6d6853",
   "metadata": {},
   "source": [
    "And now, for the deep SOM using `somDomainColors` which shows i-K in the upper right(in actuality i-F, the names are currently hardcoded):"
   ]
  },
  {
   "cell_type": "code",
   "execution_count": null,
   "id": "295e1ae8-19cc-42c4-b400-6bac5ab444b7",
   "metadata": {
    "tags": []
   },
   "outputs": [],
   "source": [
    "SOMFUNCS.somDomainColors(model['deep_som'])"
   ]
  },
  {
   "cell_type": "markdown",
   "id": "537bc500-1dbb-4a74-9e5b-07d7434a92e8",
   "metadata": {},
   "source": [
    "For comparison, here is the `somDomainColorsnok` plots for the wide SOM:"
   ]
  },
  {
   "cell_type": "code",
   "execution_count": null,
   "id": "3fad36ec-85e9-44b7-a4b2-fef371f63130",
   "metadata": {
    "tags": []
   },
   "outputs": [],
   "source": [
    "SOMFUNCS.somDomainColorsnok(model['wide_som'])"
   ]
  },
  {
   "cell_type": "markdown",
   "id": "5335e3a7-eab5-45f7-ba0d-b4a357c9f585",
   "metadata": {},
   "source": [
    "And, as a final visualization, here are the locations of the mean colors of each SOM cell in i-K vs g-i color space, color-coded by the mean i-band magnitude of the SOM cell:"
   ]
  },
  {
   "cell_type": "code",
   "execution_count": null,
   "id": "c4920cf5-6d83-40a5-bad6-26f2a9b2d24e",
   "metadata": {
    "tags": []
   },
   "outputs": [],
   "source": [
    "SOMFUNCS.somPlot2d(model['deep_som'])"
   ]
  },
  {
   "cell_type": "markdown",
   "id": "9b342745-5c4c-425a-846c-a9b5cce417ec",
   "metadata": {},
   "source": [
    "This looks promising, our SOMs both show coherent patterns in color and magnitude, as they should, and will enable us to map color-space to redshift via the occupation of training galaxies in the SOMs.  In a separate notebook, `rail_sompz_estimation_demo.ipynb`, we will run the estimator stage and produce tomographic bin estimates for a test set of objects."
   ]
  },
  {
   "cell_type": "code",
   "execution_count": null,
   "id": "d644d7d8-1f47-4885-9db4-2e49f61bb718",
   "metadata": {},
   "outputs": [],
   "source": []
  }
 ],
 "metadata": {
  "kernelspec": {
   "display_name": "NERSC Python",
   "language": "python",
   "name": "python3"
  },
  "language_info": {
   "codemirror_mode": {
    "name": "ipython",
    "version": 3
   },
   "file_extension": ".py",
   "mimetype": "text/x-python",
   "name": "python",
   "nbconvert_exporter": "python",
   "pygments_lexer": "ipython3",
   "version": "3.11.7"
  }
 },
 "nbformat": 4,
 "nbformat_minor": 5
}
